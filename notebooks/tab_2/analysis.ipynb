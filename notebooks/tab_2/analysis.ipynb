{
 "cells": [
  {
   "cell_type": "code",
   "execution_count": null,
   "metadata": {},
   "outputs": [],
   "source": [
    "import ase.io as ase_io\n",
    "import numpy as np"
   ]
  },
  {
   "cell_type": "code",
   "execution_count": null,
   "metadata": {},
   "outputs": [],
   "source": [
    "def get_rmse(a, b, perc=False):\n",
    "    rmse = np.sqrt(np.mean(np.square(a - b)))\n",
    "    if perc:\n",
    "        return 100 * rmse / b.std(ddof=1)\n",
    "    return rmse"
   ]
  },
  {
   "cell_type": "code",
   "execution_count": null,
   "metadata": {},
   "outputs": [],
   "source": [
    "mols = [\"aspirin\", \"ethanol\", \"malonaldehyde\", \"naphthalene\", \"salicylic\", \"toluene\"]"
   ]
  },
  {
   "cell_type": "code",
   "execution_count": null,
   "metadata": {},
   "outputs": [],
   "source": [
    "md17_frames = {}\n",
    "for mol in mols:\n",
    "    md17_frames[mol] = ase_io.read(f\"../../data/rMD17/{mol}.xyz\", \":\")"
   ]
  },
  {
   "cell_type": "code",
   "execution_count": null,
   "metadata": {},
   "outputs": [],
   "source": [
    "rmd17_mace_energy_err = []\n",
    "for mol in mols:\n",
    "    a = np.array([x.info[\"rMD17_energy\"] for x in md17_frames[mol]])\n",
    "    a -= a[0]\n",
    "    a = a[1:]\n",
    "    b = np.array([x.info[\"gomace_energy\"] for x in md17_frames[mol]])\n",
    "    b -= b[0]\n",
    "    b = b[1:]\n",
    "    print(mol)\n",
    "    print(1e3 * get_rmse(a, b) / len(md17_frames[mol][0]))\n",
    "    print()\n",
    "    rmd17_mace_energy_err.append(1e3 * get_rmse(a, b) / len(md17_frames[mol][0]))"
   ]
  },
  {
   "cell_type": "code",
   "execution_count": null,
   "metadata": {},
   "outputs": [],
   "source": [
    "rmd17_schnet_energy_err = []\n",
    "for mol in mols:\n",
    "    a = np.array([x.info[\"rMD17_energy\"] for x in md17_frames[mol]])\n",
    "    a -= a[0]\n",
    "    a = a[1:]\n",
    "\n",
    "    b = np.array([x.info[\"schnet_energy\"] for x in md17_frames[mol]])\n",
    "    b -= b[0]\n",
    "    b = b[1:]\n",
    "    print(mol)\n",
    "    print(1e3 * get_rmse(a, b) / len(md17_frames[mol][0]))\n",
    "    print()\n",
    "    rmd17_schnet_energy_err.append(1e3 * get_rmse(a, b) / len(md17_frames[mol][0]))"
   ]
  },
  {
   "cell_type": "code",
   "execution_count": null,
   "metadata": {},
   "outputs": [],
   "source": [
    "rmd17_tensornet_energy_err = []\n",
    "for mol in mols:\n",
    "    a = np.array([x.info[\"rMD17_energy\"] for x in md17_frames[mol]])\n",
    "    a -= a[0]\n",
    "    a = a[1:]\n",
    "\n",
    "    b = np.array([x.info[\"tensornet_energy\"] for x in md17_frames[mol]])\n",
    "    b -= b[0]\n",
    "    b = b[1:]\n",
    "    print(mol)\n",
    "    print(1e3 * get_rmse(a, b) / len(md17_frames[mol][0]))\n",
    "    print()\n",
    "    rmd17_tensornet_energy_err.append(1e3 * get_rmse(a, b) / len(md17_frames[mol][0]))"
   ]
  },
  {
   "cell_type": "code",
   "execution_count": null,
   "metadata": {},
   "outputs": [],
   "source": [
    "rmd17_nequip_energy_err = []\n",
    "for mol in mols:\n",
    "    a = np.array([x.info[\"rMD17_energy\"] for x in md17_frames[mol]])\n",
    "    a -= a[0]\n",
    "    a = a[1:]\n",
    "\n",
    "    b = np.array([x.info[\"nequip_energy\"] for x in md17_frames[mol]])\n",
    "    b -= b[0]\n",
    "    b = b[1:]\n",
    "    print(mol)\n",
    "    print(1e3 * get_rmse(a, b) / len(md17_frames[mol][0]))\n",
    "    print()\n",
    "    rmd17_nequip_energy_err.append(1e3 * get_rmse(a, b) / len(md17_frames[mol][0]))"
   ]
  },
  {
   "cell_type": "code",
   "execution_count": null,
   "metadata": {},
   "outputs": [],
   "source": [
    "rmd17_painn_energy_err = []\n",
    "for mol in mols:\n",
    "    a = np.array([x.info[\"rMD17_energy\"] for x in md17_frames[mol]])\n",
    "    a -= a[0]\n",
    "    a = a[1:]\n",
    "\n",
    "    b = np.array([x.info[\"painn_energy\"] for x in md17_frames[mol]])\n",
    "    b -= b[0]\n",
    "    b = b[1:]\n",
    "    print(mol)\n",
    "    print(1e3 * get_rmse(a, b) / len(md17_frames[mol][0]))\n",
    "    print()\n",
    "    rmd17_painn_energy_err.append(1e3 * get_rmse(a, b) / len(md17_frames[mol][0]))"
   ]
  },
  {
   "cell_type": "code",
   "execution_count": null,
   "metadata": {},
   "outputs": [],
   "source": [
    "rmd17_mace_forces_err = []\n",
    "for mol in mols:\n",
    "    a = np.array([x.arrays[\"rMD17_forces\"] for x in md17_frames[mol]])\n",
    "    b = np.array([x.arrays[\"gomace_forces\"] for x in md17_frames[mol]])\n",
    "    print(mol)\n",
    "    print(1e3 * get_rmse(a, b))\n",
    "    print()\n",
    "    rmd17_mace_forces_err.append(1e3 * get_rmse(a, b))"
   ]
  },
  {
   "cell_type": "code",
   "execution_count": null,
   "metadata": {},
   "outputs": [],
   "source": [
    "rmd17_schnet_forces_err = []\n",
    "for mol in mols:\n",
    "    a = np.array([x.arrays[\"rMD17_forces\"] for x in md17_frames[mol]])\n",
    "    b = np.array([x.arrays[\"schnet_forces\"] for x in md17_frames[mol]])\n",
    "    print(mol)\n",
    "    print(1e3 * get_rmse(a, b))\n",
    "    print()\n",
    "    rmd17_schnet_forces_err.append(1e3 * get_rmse(a, b))"
   ]
  },
  {
   "cell_type": "code",
   "execution_count": null,
   "metadata": {},
   "outputs": [],
   "source": [
    "rmd17_tensornet_forces_err = []\n",
    "for mol in mols:\n",
    "    a = np.array([x.arrays[\"rMD17_forces\"] for x in md17_frames[mol]])\n",
    "    b = np.array([x.arrays[\"tensornet_forces\"] for x in md17_frames[mol]])\n",
    "    print(mol)\n",
    "    print(1e3 * get_rmse(a, b))\n",
    "    print()\n",
    "    rmd17_tensornet_forces_err.append(1e3 * get_rmse(a, b))"
   ]
  },
  {
   "cell_type": "code",
   "execution_count": null,
   "metadata": {},
   "outputs": [],
   "source": [
    "rmd17_nequip_forces_err = []\n",
    "for mol in mols:\n",
    "    a = np.array([x.arrays[\"rMD17_forces\"] for x in md17_frames[mol]])\n",
    "    b = np.array([x.arrays[\"nequip_forces\"] for x in md17_frames[mol]])\n",
    "    print(mol)\n",
    "    print(1e3 * get_rmse(a, b))\n",
    "    print()\n",
    "    rmd17_nequip_forces_err.append(1e3 * get_rmse(a, b))"
   ]
  },
  {
   "cell_type": "code",
   "execution_count": null,
   "metadata": {},
   "outputs": [],
   "source": [
    "rmd17_painn_forces_err = []\n",
    "for mol in mols:\n",
    "    a = np.array([x.arrays[\"rMD17_forces\"] for x in md17_frames[mol]])\n",
    "    b = np.array([x.arrays[\"painn_forces\"] for x in md17_frames[mol]])\n",
    "    print(mol)\n",
    "    print(1e3 * get_rmse(a, b))\n",
    "    print()\n",
    "    rmd17_painn_forces_err.append(1e3 * get_rmse(a, b))"
   ]
  },
  {
   "cell_type": "code",
   "execution_count": null,
   "metadata": {},
   "outputs": [],
   "source": [
    "energy_err = {}\n",
    "for i, mol in enumerate(mols):\n",
    "    energy_err[mol] = [\n",
    "        rmd17_mace_energy_err[i],\n",
    "        rmd17_schnet_energy_err[i],\n",
    "        rmd17_tensornet_energy_err[i],\n",
    "        rmd17_nequip_energy_err[i],\n",
    "        rmd17_painn_energy_err[i],\n",
    "    ]"
   ]
  },
  {
   "cell_type": "code",
   "execution_count": null,
   "metadata": {},
   "outputs": [],
   "source": [
    "forces_err = {}\n",
    "for i, mol in enumerate(mols):\n",
    "    forces_err[mol] = [\n",
    "        rmd17_mace_forces_err[i],\n",
    "        rmd17_schnet_forces_err[i],\n",
    "        rmd17_tensornet_forces_err[i],\n",
    "        rmd17_nequip_forces_err[i],\n",
    "        rmd17_painn_forces_err[i],\n",
    "    ]"
   ]
  },
  {
   "cell_type": "code",
   "execution_count": null,
   "metadata": {},
   "outputs": [],
   "source": [
    "for mol in mols:\n",
    "    eml = [f\"{e:.1f}\" for e in energy_err[mol]]\n",
    "    print(mol + \" &  \" + \" & \".join(eml) + \"\\\\\\\\\")"
   ]
  },
  {
   "cell_type": "code",
   "execution_count": null,
   "metadata": {},
   "outputs": [],
   "source": [
    "for mol in mols:\n",
    "    fml = [f\"{1e-3*e:.2f}\" for e in forces_err[mol]]\n",
    "    print(mol + \" &  \" + \" & \".join(fml) + \"\\\\\\\\\")"
   ]
  }
 ],
 "metadata": {
  "kernelspec": {
   "display_name": "mace",
   "language": "python",
   "name": "python3"
  },
  "language_info": {
   "codemirror_mode": {
    "name": "ipython",
    "version": 3
   },
   "file_extension": ".py",
   "mimetype": "text/x-python",
   "name": "python",
   "nbconvert_exporter": "python",
   "pygments_lexer": "ipython3",
   "version": "3.9.19"
  }
 },
 "nbformat": 4,
 "nbformat_minor": 2
}
