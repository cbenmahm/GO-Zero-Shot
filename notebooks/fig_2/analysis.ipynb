{
 "cells": [
  {
   "cell_type": "code",
   "execution_count": 1,
   "metadata": {},
   "outputs": [],
   "source": [
    "import ase.io as ase_io\n",
    "import matplotlib.pyplot as plt\n",
    "import numpy as np"
   ]
  },
  {
   "cell_type": "code",
   "execution_count": 2,
   "metadata": {},
   "outputs": [],
   "source": [
    "def get_rmse(a, b, perc=False):\n",
    "    rmse = np.sqrt(np.mean(np.square(a - b)))\n",
    "    if perc:\n",
    "        return 100 * rmse / b.std(ddof=1)\n",
    "    return rmse"
   ]
  },
  {
   "cell_type": "code",
   "execution_count": 3,
   "metadata": {},
   "outputs": [],
   "source": [
    "# define colors\n",
    "\n",
    "c0 = \"#f18f01\"\n",
    "c1 = \"#033f63\"\n",
    "c2 = \"#95b46a\"\n",
    "c3 = \"#ee4266\""
   ]
  },
  {
   "cell_type": "code",
   "execution_count": 4,
   "metadata": {},
   "outputs": [],
   "source": [
    "# load rMD17 trajectories\n",
    "mols = [\"aspirin\", \"ethanol\", \"malonaldehyde\", \"naphthalene\", \"salicylic\", \"toluene\"]\n",
    "md17_frames = {}\n",
    "for mol in mols:\n",
    "    md17_frames[mol] = ase_io.read(f\"../../data/rMD17/{mol}.xyz\", \":\")"
   ]
  },
  {
   "cell_type": "code",
   "execution_count": 5,
   "metadata": {},
   "outputs": [
    {
     "name": "stdout",
     "output_type": "stream",
     "text": [
      "aspirin\n",
      "3.1732999452305313\n",
      "\n",
      "ethanol\n",
      "9.038162904109761\n",
      "\n",
      "malonaldehyde\n",
      "8.941516166202469\n",
      "\n",
      "naphthalene\n",
      "2.371764909988613\n",
      "\n",
      "salicylic\n",
      "1.976719193066957\n",
      "\n",
      "toluene\n",
      "8.008696829184608\n",
      "\n"
     ]
    }
   ],
   "source": [
    "rmd17_energy_err = []\n",
    "for mol in mols:\n",
    "    a = np.array([x.info[\"gomace_energy\"] for x in md17_frames[mol]])\n",
    "    a -= a[0]\n",
    "    a = a[1:]\n",
    "    b = np.array([x.info[\"castep_energy\"] for x in md17_frames[mol]])\n",
    "    b -= b[0]\n",
    "    b = b[1:]\n",
    "    print(mol)\n",
    "    print(1e3 * get_rmse(a, b) / len(md17_frames[mol][0]))\n",
    "    print()\n",
    "    rmd17_energy_err.append(1e3 * get_rmse(a, b) / len(md17_frames[mol][0]))"
   ]
  },
  {
   "cell_type": "code",
   "execution_count": 6,
   "metadata": {},
   "outputs": [
    {
     "name": "stdout",
     "output_type": "stream",
     "text": [
      "aspirin\n",
      "174.1681508358983\n",
      "\n",
      "ethanol\n",
      "268.74394015603406\n",
      "\n",
      "malonaldehyde\n",
      "225.62334381552097\n",
      "\n",
      "naphthalene\n",
      "59.97350863692866\n",
      "\n",
      "salicylic\n",
      "106.42643542252074\n",
      "\n",
      "toluene\n",
      "470.63044250236896\n",
      "\n"
     ]
    }
   ],
   "source": [
    "rmd17_forces_err = []\n",
    "for mol in mols:\n",
    "    a = np.array([x.arrays[\"gomace_forces\"] for x in md17_frames[mol]])\n",
    "    # a -= a[0]\n",
    "    b = np.array([x.arrays[\"castep_forces\"] for x in md17_frames[mol]])\n",
    "    # b -= b[0]\n",
    "    print(mol)\n",
    "    print(1e3 * get_rmse(a, b))\n",
    "    print()\n",
    "    rmd17_forces_err.append(1e3 * get_rmse(a, b))"
   ]
  },
  {
   "cell_type": "code",
   "execution_count": 7,
   "metadata": {},
   "outputs": [],
   "source": [
    "# change how the long molecule names are displayed\n",
    "new_mols = mols.copy()\n",
    "new_mols[2] = \"malo.\"\n",
    "new_mols[3] = \"naphth.\""
   ]
  },
  {
   "cell_type": "code",
   "execution_count": null,
   "metadata": {},
   "outputs": [
    {
     "data": {
      "image/png": "[encoded data removed]",
      "text/plain": [
       "<Figure size 350x300 with 2 Axes>"
      ]
     },
     "metadata": {},
     "output_type": "display_data"
    }
   ],
   "source": [
    "fig = plt.figure(figsize=(3.5, 3.0), constrained_layout=True)\n",
    "\n",
    "ax = fig.add_subplot(211)\n",
    "ax.bar(\n",
    "    np.arange(len(new_mols)),\n",
    "    rmd17_energy_err,\n",
    "    width=0.3,\n",
    "    label=\"GO-MACE-23 prediction\",\n",
    "    color=c3,\n",
    "    edgecolor=c3,\n",
    ")\n",
    "\n",
    "ax.plot([-0.1, 5.1], [1.8] * 2, \"k--\", lw=0.75, label=\"GO-MACE-23 validation\")\n",
    "ax.set_xticklabels(())\n",
    "ax.tick_params(axis=\"both\", labelsize=8)\n",
    "ax.set_ylabel(\"Energy RMSE (meV at.$^{-1}$)\", fontsize=8)\n",
    "ax.legend(loc=\"upper right\", fontsize=8, ncols=1, frameon=False)\n",
    "ax.set_ylim(0, 16)\n",
    "\n",
    "labelx = -0.11\n",
    "ax.yaxis.set_label_coords(labelx, 0.5, transform=ax.transAxes)\n",
    "\n",
    "ax = fig.add_subplot(212)\n",
    "ax.bar(np.arange(len(new_mols)), rmd17_forces_err, width=0.3, color=c3, edgecolor=c3)\n",
    "\n",
    "# GO-MACE-23 validation errors on the GO dataset\n",
    "ax.plot([-0.1, 5.1], [106.9] * 2, \"k--\", lw=0.75)\n",
    "\n",
    "ax.set_xticks(np.arange(len(new_mols)))\n",
    "ax.set_xticklabels(new_mols)\n",
    "ax.tick_params(axis=\"both\", labelsize=8)\n",
    "ax.set_ylabel(\"Force RMSE (meV $\\mathrm{\\AA}^{-1}$)\", fontsize=8)\n",
    "ax.yaxis.set_label_coords(labelx, 0.5, transform=ax.transAxes)\n",
    "\n",
    "# fig.savefig(\"./fig2.svg\", dpi=300)"
   ]
  },
  {
   "cell_type": "code",
   "execution_count": null,
   "metadata": {},
   "outputs": [],
   "source": []
  }
 ],
 "metadata": {
  "kernelspec": {
   "display_name": "mace",
   "language": "python",
   "name": "python3"
  },
  "language_info": {
   "codemirror_mode": {
    "name": "ipython",
    "version": 3
   },
   "file_extension": ".py",
   "mimetype": "text/x-python",
   "name": "python",
   "nbconvert_exporter": "python",
   "pygments_lexer": "ipython3",
   "version": "3.9.19"
  }
 },
 "nbformat": 4,
 "nbformat_minor": 2
}
