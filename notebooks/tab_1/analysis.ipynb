{
 "cells": [
  {
   "cell_type": "code",
   "execution_count": null,
   "metadata": {},
   "outputs": [],
   "source": [
    "import ase.io as ase_io\n",
    "import numpy as np"
   ]
  },
  {
   "cell_type": "code",
   "execution_count": null,
   "metadata": {},
   "outputs": [],
   "source": [
    "def get_rmse(a, b, perc=False):\n",
    "    rmse = np.sqrt(np.mean(np.square(a - b)))\n",
    "    if perc:\n",
    "        return 100 * rmse / b.std(ddof=1)\n",
    "    return rmse"
   ]
  },
  {
   "cell_type": "code",
   "execution_count": null,
   "metadata": {},
   "outputs": [],
   "source": [
    "mols = [\"aspirin\", \"ethanol\", \"malonaldehyde\", \"naphthalene\", \"salicylic\", \"toluene\"]"
   ]
  },
  {
   "cell_type": "code",
   "execution_count": null,
   "metadata": {},
   "outputs": [],
   "source": [
    "frames = {}\n",
    "for mol in mols:\n",
    "    frames[mol] = ase_io.read(f\"../../data/rMD17/{mol}.xyz\", \":\")"
   ]
  },
  {
   "cell_type": "code",
   "execution_count": null,
   "metadata": {},
   "outputs": [],
   "source": [
    "energy_err = {}\n",
    "for mol in mols:\n",
    "\n",
    "    gomace = np.asarray(\n",
    "        [\n",
    "            [\n",
    "                x.info[\"gomace_L0_energy\"],\n",
    "                x.info[\"gomace_energy\"],\n",
    "                x.info[\"gomace_L2_energy\"],\n",
    "            ]\n",
    "            for x in frames[mol]\n",
    "        ]\n",
    "    )\n",
    "\n",
    "    gomace -= gomace[0]\n",
    "    gomace = gomace[1:]\n",
    "    # gomace = gomace.reshape(3, -1)\n",
    "\n",
    "    rmd17 = np.array([[x.info[\"rMD17_energy\"] for _ in range(3)] for x in frames[mol]])\n",
    "    rmd17 -= rmd17[0]\n",
    "    rmd17 = rmd17[1:]\n",
    "    # rmd17 = rmd17.reshape(3, -1)\n",
    "\n",
    "    energy_err[mol] = {}\n",
    "    energy_err[mol][\"rmd17\"] = (\n",
    "        1e3\n",
    "        # * np.array([get_rmse(x, y) for x, y in zip(gomace, rmd17)])\n",
    "        * np.sqrt(np.mean((gomace - rmd17) ** 2, axis=0))\n",
    "        / len(frames[mol][0])\n",
    "    )"
   ]
  },
  {
   "cell_type": "code",
   "execution_count": null,
   "metadata": {},
   "outputs": [],
   "source": [
    "forces_err = {}\n",
    "for mol in mols:\n",
    "\n",
    "    gomace = np.asarray(\n",
    "        [\n",
    "            [\n",
    "                x.arrays[\"gomace_L0_forces\"],\n",
    "                x.arrays[\"gomace_forces\"],\n",
    "                x.arrays[\"gomace_L2_forces\"],\n",
    "            ]\n",
    "            for x in frames[mol]\n",
    "        ]\n",
    "    )\n",
    "\n",
    "    rmd17 = np.array(\n",
    "        [[x.arrays[\"rMD17_forces\"] for _ in range(3)] for x in frames[mol]]\n",
    "    )\n",
    "\n",
    "    forces_err[mol] = {}\n",
    "    forces_err[mol][\"rmd17\"] = 1e3 * np.sqrt(\n",
    "        np.mean((gomace - rmd17) ** 2, axis=(0, 2, 3))\n",
    "    )"
   ]
  },
  {
   "cell_type": "code",
   "execution_count": null,
   "metadata": {},
   "outputs": [],
   "source": [
    "for mol in mols:\n",
    "    emd17 = [f\"{e:.1f}\" for e in energy_err[mol][\"rmd17\"]]\n",
    "    fmd17 = [f\"{1e-3*e:.2f}\" for e in forces_err[mol][\"rmd17\"]]\n",
    "    print(mol + \" &  \" + \" & \".join(emd17) + \" & & \" + \" & \".join(fmd17) + \"\\\\\\\\\")"
   ]
  },
  {
   "cell_type": "code",
   "execution_count": null,
   "metadata": {},
   "outputs": [],
   "source": []
  }
 ],
 "metadata": {
  "kernelspec": {
   "display_name": "mace",
   "language": "python",
   "name": "python3"
  },
  "language_info": {
   "codemirror_mode": {
    "name": "ipython",
    "version": 3
   },
   "file_extension": ".py",
   "mimetype": "text/x-python",
   "name": "python",
   "nbconvert_exporter": "python",
   "pygments_lexer": "ipython3",
   "version": "3.9.19"
  }
 },
 "nbformat": 4,
 "nbformat_minor": 2
}
