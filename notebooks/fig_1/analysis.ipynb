{
 "cells": [
  {
   "cell_type": "code",
   "execution_count": null,
   "metadata": {},
   "outputs": [],
   "source": [
    "import numpy as np\n",
    "import matplotlib.pyplot as plt\n",
    "from matplotlib.lines import Line2D"
   ]
  },
  {
   "cell_type": "code",
   "execution_count": null,
   "metadata": {},
   "outputs": [],
   "source": [
    "# define colors\n",
    "c = [\"C0\", \"red\", \"#4c123b\", \"#f516e6\", \"#EDB32B\"]"
   ]
  },
  {
   "cell_type": "code",
   "execution_count": null,
   "metadata": {},
   "outputs": [],
   "source": [
    "train_pca_coeffs = np.load(\"../../data/GO-MACE-23_PCA/train.npy\")"
   ]
  },
  {
   "cell_type": "code",
   "execution_count": null,
   "metadata": {},
   "outputs": [],
   "source": [
    "mols = [\"aspirin\", \"ethanol\", \"malonaldehyde\", \"naphthalene\", \"salicylic\", \"toluene\"]\n",
    "rmd17_pca_coeffs = {}\n",
    "\n",
    "for mol in mols:\n",
    "    rmd17_pca_coeffs[mol] = np.load(f\"../../data/GO-MACE-23_PCA/{mol}.npy\")"
   ]
  },
  {
   "cell_type": "code",
   "execution_count": null,
   "metadata": {},
   "outputs": [],
   "source": [
    "fullerenes_pca_coeffs = np.load(\"../../data/GO-MACE-23_PCA/fullerenes.npy\")"
   ]
  },
  {
   "cell_type": "code",
   "execution_count": null,
   "metadata": {},
   "outputs": [],
   "source": [
    "en_mols = [\"ch3cho\", \"co2\", \"h2o\", \"ch4\", \"ch2o\"]\n",
    "\n",
    "encapsulated_pca_coeffs = {}\n",
    "for mol in en_mols:\n",
    "    encapsulated_pca_coeffs[mol] = np.load(f\"../../data/GO-MACE-23_PCA/{mol}_c60.npy\")"
   ]
  },
  {
   "cell_type": "code",
   "execution_count": null,
   "metadata": {},
   "outputs": [],
   "source": [
    "spice_pca_coeffs = np.load(\"../../data/GO-MACE-23_PCA/spice.npy\")"
   ]
  },
  {
   "cell_type": "code",
   "execution_count": null,
   "metadata": {},
   "outputs": [],
   "source": [
    "isolated_pca_coeffs = np.load(\"../../data/GO-MACE-23_PCA/isolated.npy\")"
   ]
  },
  {
   "cell_type": "code",
   "execution_count": null,
   "metadata": {},
   "outputs": [],
   "source": [
    "fig = plt.figure(figsize=(3.5, 3.5))\n",
    "ax = fig.add_subplot(111)\n",
    "\n",
    "ax.scatter(\n",
    "    train_pca_coeffs[:, 0],\n",
    "    train_pca_coeffs[:, 1],\n",
    "    alpha=0.25,\n",
    "    c=c[0],\n",
    "    s=16,\n",
    "    edgecolors=\"none\",\n",
    "    label=\"GO dataset\",\n",
    "    rasterized=True,\n",
    ")\n",
    "\n",
    "ax.scatter(\n",
    "    spice_pca_coeffs[:, 0],\n",
    "    spice_pca_coeffs[:, 1],\n",
    "    alpha=0.25,\n",
    "    s=16,\n",
    "    label=\"SPICE\",\n",
    "    edgecolors=\"none\",\n",
    "    color=c[1],\n",
    "    marker=\"s\",\n",
    "    rasterized=True,\n",
    ")\n",
    "\n",
    "for mol in mols:\n",
    "    ax.scatter(\n",
    "        rmd17_pca_coeffs[mol][:, 0],\n",
    "        rmd17_pca_coeffs[mol][:, 1],\n",
    "        s=16,\n",
    "        alpha=1,\n",
    "        label=mol,\n",
    "        edgecolors=\"none\",\n",
    "        marker=\"^\",\n",
    "        c=c[2],\n",
    "    )\n",
    "\n",
    "ax.scatter(\n",
    "    fullerenes_pca_coeffs[:, 0],\n",
    "    fullerenes_pca_coeffs[:, 1],\n",
    "    alpha=1,\n",
    "    s=16,\n",
    "    label=\"fullerenes\",\n",
    "    edgecolors=\"none\",\n",
    "    color=c[3],\n",
    ")\n",
    "\n",
    "for a in en_mols:\n",
    "    ax.scatter(\n",
    "        encapsulated_pca_coeffs[a][:, 0],\n",
    "        encapsulated_pca_coeffs[a][:, 1],\n",
    "        s=16,\n",
    "        alpha=1,\n",
    "        edgecolors=\"none\",\n",
    "        color=c[4],\n",
    "    )\n",
    "\n",
    "ax.scatter(\n",
    "    isolated_pca_coeffs[:, 0],\n",
    "    isolated_pca_coeffs[:, 1],\n",
    "    s=16,\n",
    "    alpha=1,\n",
    "    label=\"isoalted\",\n",
    "    marker=\"x\",\n",
    "    color=\"k\",\n",
    ")\n",
    "\n",
    "\n",
    "ax.set_axis_off()\n",
    "\n",
    "labels = [\n",
    "    \"GO dataset\",\n",
    "    \"SPICE\",\n",
    "    \"rMD17\",\n",
    "    \"fullerenes\",\n",
    "    \"M @ C$_{60}$\",\n",
    "    \"isolated molecules\",\n",
    "]\n",
    "custom_lines = [\n",
    "    Line2D([0], [0], color=c[0], lw=0.75, ls=\"None\", marker=\"o\", markersize=4),\n",
    "    Line2D([0], [0], color=c[1], lw=0.75, ls=\"None\", marker=\"s\", markersize=4),\n",
    "    Line2D([0], [0], color=c[2], lw=0.75, ls=\"None\", marker=\"^\", markersize=4),\n",
    "    Line2D([0], [0], color=c[3], lw=0.75, ls=\"None\", marker=\"o\", markersize=4),\n",
    "    Line2D([0], [0], color=c[4], lw=0.75, ls=\"None\", marker=\"o\", markersize=4),\n",
    "    Line2D([0], [0], color=\"k\", lw=0.75, ls=\"None\", marker=\"x\", markersize=4),\n",
    "]\n",
    "fig.legend(\n",
    "    custom_lines,\n",
    "    labels,\n",
    "    fontsize=8,\n",
    "    ncols=2,\n",
    "    loc=\"upper left\",\n",
    "    bbox_to_anchor=(0.15, 1.05),\n",
    "    columnspacing=0.5,\n",
    "    frameon=False,\n",
    ")\n",
    "\n",
    "# fig.savefig(\"./fig1.svg\", dpi=300, bbox_inches=\"tight\")"
   ]
  },
  {
   "cell_type": "code",
   "execution_count": null,
   "metadata": {},
   "outputs": [],
   "source": []
  }
 ],
 "metadata": {
  "kernelspec": {
   "display_name": "mace",
   "language": "python",
   "name": "python3"
  },
  "language_info": {
   "codemirror_mode": {
    "name": "ipython",
    "version": 3
   },
   "file_extension": ".py",
   "mimetype": "text/x-python",
   "name": "python",
   "nbconvert_exporter": "python",
   "pygments_lexer": "ipython3",
   "version": "3.9.19"
  }
 },
 "nbformat": 4,
 "nbformat_minor": 2
}
